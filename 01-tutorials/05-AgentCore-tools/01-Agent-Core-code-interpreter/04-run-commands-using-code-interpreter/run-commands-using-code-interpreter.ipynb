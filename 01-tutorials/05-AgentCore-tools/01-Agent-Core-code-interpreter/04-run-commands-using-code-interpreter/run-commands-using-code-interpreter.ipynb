{
 "cells": [
  {
   "cell_type": "markdown",
   "metadata": {},
   "source": [
    "# Running Commands on Amazon Bedrock AgentCore Code Interpreter - Tutorial\n",
    "\n",
    "This tutorial demonstrates how to use Amazon Bedrock AgentCore Code Interpreter to run commands (shell and AWS CLI). We will interact with AWS services, specifically focusing on S3 operations. We'll walk through:\n",
    "\n",
    "1. Creating a code interpreter\n",
    "2. Start code interpreter session\n",
    "3. Run Commands(shell and AWS CLI)\n",
    "5. Performing S3 operations(create bucket, copy objects, list bucket objects)\n",
    "6. Cleanup (stop session and delete code interpreter)\n",
    "\n",
    "\n",
    "\n",
    "## Prerequisites\n",
    "- AWS account with Bedrock AgentCore Code Interpreter access\n",
    "- You have the necessary IAM permissions to create and manage code interpreter resources\n",
    "- YOu have the necessary IAM permissions to perform s3 operations\n",
    "- Required Python packages installed(including boto3 & bedrock-agentcore)\n",
    "\n",
    "\n",
    "## Your IAM execution role should have the following IAM policy attached"
   ]
  },
  {
   "cell_type": "markdown",
   "metadata": {},
   "source": [
    "~~~ {\n",
    "    \"Version\": \"2012-10-17\",\n",
    "    \"Statement\": [\n",
    "        {\n",
    "            \"Effect\": \"Allow\",\n",
    "            \"Action\": [\n",
    "                \"bedrock-agentcore:CreateCodeInterpreter\",\n",
    "                \"bedrock-agentcore:StartCodeInterpreterSession\",\n",
    "                \"bedrock-agentcore:InvokeCodeInterpreter\",\n",
    "                \"bedrock-agentcore:StopCodeInterpreterSession\",\n",
    "                \"bedrock-agentcore:DeleteCodeInterpreter\",\n",
    "                \"bedrock-agentcore:ListCodeInterpreters\",\n",
    "                \"bedrock-agentcore:GetCodeInterpreter\"\n",
    "            ],\n",
    "            \"Resource\": \"*\"\n",
    "        },\n",
    "        {\n",
    "            \"Effect\": \"Allow\",\n",
    "            \"Action\": [\n",
    "                \"logs:CreateLogGroup\",\n",
    "                \"logs:CreateLogStream\",\n",
    "                \"logs:PutLogEvents\"\n",
    "            ],\n",
    "            \"Resource\": \"arn:aws:logs:*:*:log-group:/aws/bedrock-agentcore/code-interpreter*\"\n",
    "        }\n",
    "    ]\n",
    "}"
   ]
  },
  {
   "cell_type": "markdown",
   "metadata": {},
   "source": [
    "#### The IAM execution role should also have the following trust policy attached. By including bedrock-agentcore.amazonaws.com in the trust policy, you're allowing the Bedrock Agent service itself to assume this IAM role and perform actions on your behalf(such as Amazon S3)"
   ]
  },
  {
   "cell_type": "markdown",
   "metadata": {},
   "source": [
    "```{\n",
    "    \"Version\": \"2012-10-17\",\n",
    "    \"Statement\": [\n",
    "        {\n",
    "            \"Effect\": \"Allow\",\n",
    "            \"Principal\": {\n",
    "                \"AWS\": \"arn:aws:iam::558228106740:root\",\n",
    "                \"Service\": [\n",
    "                    \"bedrock-agentcore.amazonaws.com\"\n",
    "                ]\n",
    "            },\n",
    "            \"Action\": \"sts:AssumeRole\",\n",
    "            \"Condition\": {}\n",
    "        }\n",
    "    ]\n",
    "}"
   ]
  },
  {
   "cell_type": "markdown",
   "metadata": {},
   "source": [
    "Additionally, you need to attach the AmazonS3FullAccess IAM policy to the IAM Execution role to perform the s3 operations described in this tutorial"
   ]
  },
  {
   "cell_type": "markdown",
   "metadata": {},
   "source": [
    "## How it works\n",
    "\n",
    "The code execution sandbox enables agents to safely process user queries by creating an isolated environment with a code interpreter, shell, and file system. After a Large Language Model helps with tool selection, code is executed within this session, before being returned to the user or Agent for synthesis.\n",
    "\n",
    "![architecture local](code-interpreter.png)"
   ]
  },
  {
   "cell_type": "markdown",
   "metadata": {},
   "source": [
    "## 1. Setting Up the Environment\n",
    "\n",
    "First, let's import the necessary libraries"
   ]
  },
  {
   "cell_type": "code",
   "execution_count": null,
   "metadata": {},
   "outputs": [
    {
     "name": "stdout",
     "output_type": "stream",
     "text": [
      "Requirement already satisfied: boto3 in /Users/azrahuls/.local/share/mise/installs/python/3.12.11/lib/python3.12/site-packages (from -r requirements.txt (line 1)) (1.39.5)\n",
      "Requirement already satisfied: bedrock-agentcore in /Users/azrahuls/.local/share/mise/installs/python/3.12.11/lib/python3.12/site-packages (from -r requirements.txt (line 2)) (0.1.0)\n",
      "Requirement already satisfied: botocore<1.40.0,>=1.39.5 in /Users/azrahuls/.local/share/mise/installs/python/3.12.11/lib/python3.12/site-packages (from boto3->-r requirements.txt (line 1)) (1.39.5)\n",
      "Requirement already satisfied: jmespath<2.0.0,>=0.7.1 in /Users/azrahuls/.local/share/mise/installs/python/3.12.11/lib/python3.12/site-packages (from boto3->-r requirements.txt (line 1)) (1.0.1)\n",
      "Requirement already satisfied: s3transfer<0.14.0,>=0.13.0 in /Users/azrahuls/.local/share/mise/installs/python/3.12.11/lib/python3.12/site-packages (from boto3->-r requirements.txt (line 1)) (0.13.0)\n",
      "Requirement already satisfied: pydantic<3.0.0,>=2.0.0 in /Users/azrahuls/.local/share/mise/installs/python/3.12.11/lib/python3.12/site-packages (from bedrock-agentcore->-r requirements.txt (line 2)) (2.11.7)\n",
      "Requirement already satisfied: starlette>=0.46.2 in /Users/azrahuls/.local/share/mise/installs/python/3.12.11/lib/python3.12/site-packages (from bedrock-agentcore->-r requirements.txt (line 2)) (0.47.1)\n",
      "Requirement already satisfied: typing-extensions<5.0.0,>=4.13.2 in /Users/azrahuls/.local/share/mise/installs/python/3.12.11/lib/python3.12/site-packages (from bedrock-agentcore->-r requirements.txt (line 2)) (4.14.0)\n",
      "Requirement already satisfied: urllib3>=1.26.0 in /Users/azrahuls/.local/share/mise/installs/python/3.12.11/lib/python3.12/site-packages (from bedrock-agentcore->-r requirements.txt (line 2)) (2.5.0)\n",
      "Requirement already satisfied: uvicorn>=0.34.2 in /Users/azrahuls/.local/share/mise/installs/python/3.12.11/lib/python3.12/site-packages (from bedrock-agentcore->-r requirements.txt (line 2)) (0.35.0)\n",
      "Requirement already satisfied: python-dateutil<3.0.0,>=2.1 in /Users/azrahuls/.local/share/mise/installs/python/3.12.11/lib/python3.12/site-packages (from botocore<1.40.0,>=1.39.5->boto3->-r requirements.txt (line 1)) (2.9.0.post0)\n",
      "Requirement already satisfied: annotated-types>=0.6.0 in /Users/azrahuls/.local/share/mise/installs/python/3.12.11/lib/python3.12/site-packages (from pydantic<3.0.0,>=2.0.0->bedrock-agentcore->-r requirements.txt (line 2)) (0.7.0)\n",
      "Requirement already satisfied: pydantic-core==2.33.2 in /Users/azrahuls/.local/share/mise/installs/python/3.12.11/lib/python3.12/site-packages (from pydantic<3.0.0,>=2.0.0->bedrock-agentcore->-r requirements.txt (line 2)) (2.33.2)\n",
      "Requirement already satisfied: typing-inspection>=0.4.0 in /Users/azrahuls/.local/share/mise/installs/python/3.12.11/lib/python3.12/site-packages (from pydantic<3.0.0,>=2.0.0->bedrock-agentcore->-r requirements.txt (line 2)) (0.4.1)\n",
      "Requirement already satisfied: anyio<5,>=3.6.2 in /Users/azrahuls/.local/share/mise/installs/python/3.12.11/lib/python3.12/site-packages (from starlette>=0.46.2->bedrock-agentcore->-r requirements.txt (line 2)) (4.9.0)\n",
      "Requirement already satisfied: click>=7.0 in /Users/azrahuls/.local/share/mise/installs/python/3.12.11/lib/python3.12/site-packages (from uvicorn>=0.34.2->bedrock-agentcore->-r requirements.txt (line 2)) (8.2.1)\n",
      "Requirement already satisfied: h11>=0.8 in /Users/azrahuls/.local/share/mise/installs/python/3.12.11/lib/python3.12/site-packages (from uvicorn>=0.34.2->bedrock-agentcore->-r requirements.txt (line 2)) (0.16.0)\n",
      "Requirement already satisfied: idna>=2.8 in /Users/azrahuls/.local/share/mise/installs/python/3.12.11/lib/python3.12/site-packages (from anyio<5,>=3.6.2->starlette>=0.46.2->bedrock-agentcore->-r requirements.txt (line 2)) (3.10)\n",
      "Requirement already satisfied: sniffio>=1.1 in /Users/azrahuls/.local/share/mise/installs/python/3.12.11/lib/python3.12/site-packages (from anyio<5,>=3.6.2->starlette>=0.46.2->bedrock-agentcore->-r requirements.txt (line 2)) (1.3.1)\n",
      "Requirement already satisfied: six>=1.5 in /Users/azrahuls/.local/share/mise/installs/python/3.12.11/lib/python3.12/site-packages (from python-dateutil<3.0.0,>=2.1->botocore<1.40.0,>=1.39.5->boto3->-r requirements.txt (line 1)) (1.17.0)\n",
      "\n",
      "\u001b[1m[\u001b[0m\u001b[34;49mnotice\u001b[0m\u001b[1;39;49m]\u001b[0m\u001b[39;49m A new release of pip is available: \u001b[0m\u001b[31;49m24.3.1\u001b[0m\u001b[39;49m -> \u001b[0m\u001b[32;49m25.1.1\u001b[0m\n",
      "\u001b[1m[\u001b[0m\u001b[34;49mnotice\u001b[0m\u001b[1;39;49m]\u001b[0m\u001b[39;49m To update, run: \u001b[0m\u001b[32;49mpip install --upgrade pip\u001b[0m\n"
     ]
    }
   ],
   "source": [
    "!pip install --upgrade -r requirements.txt"
   ]
  },
  {
   "cell_type": "code",
   "execution_count": null,
   "metadata": {
    "ExecuteTime": {
     "end_time": "2025-07-13T12:38:33.000173Z",
     "start_time": "2025-07-13T12:38:32.995251Z"
    }
   },
   "outputs": [],
   "source": [
    "import json\n",
    "import boto3\n",
    "from bedrock_agentcore.tools.code_interpreter_client import code_session, CodeInterpreter\n",
    "from bedrock_agentcore._utils import endpoints\n",
    "import time\n",
    "from typing import Dict, Any, List"
   ]
  },
  {
   "cell_type": "markdown",
   "metadata": {},
   "source": [
    "## 2. Configuration Variables\n",
    "\n",
    "Set up the necessary configuration variables for code interpreter and S3 operations. We also provide an IAM execution role to pass to the code interpreter,so that it can assume it to access other AWS resources. This role needs S3 permissions, as discussed above"
   ]
  },
  {
   "cell_type": "code",
   "execution_count": null,
   "metadata": {
    "ExecuteTime": {
     "end_time": "2025-07-13T12:56:35.843558Z",
     "start_time": "2025-07-13T12:56:35.834789Z"
    }
   },
   "outputs": [],
   "source": [
    "# Configuration setup\n",
    "execution_role_arn = \"<execution-role-arn>\"\n",
    "unique_bucket_name = f\"amzn-bucket-{int(time.time())}\"\n",
    "s3_path = f\"s3://{unique_bucket_name}\"\n",
    "\n",
    "region = \"us-west-2\"\n",
    "\n",
    "#local file that we will upload to Code interpreter and then to an S3 bucket\n",
    "local_file = \"samples/stats.py\""
   ]
  },
  {
   "cell_type": "markdown",
   "metadata": {},
   "source": [
    "## 3. Setting up endpoints\n",
    "\n",
    "We need to configure both data plane and control plane endpoints to create the boto3 clients."
   ]
  },
  {
   "cell_type": "code",
   "execution_count": null,
   "metadata": {
    "ExecuteTime": {
     "end_time": "2025-07-13T12:56:39.350883Z",
     "start_time": "2025-07-13T12:56:39.346623Z"
    }
   },
   "outputs": [],
   "source": [
    "# Configure endpoints\n",
    "data_plane_endpoint = endpoints.get_data_plane_endpoint(region)\n",
    "control_plane_endpoint = endpoints.get_control_plane_endpoint(region)"
   ]
  },
  {
   "cell_type": "markdown",
   "metadata": {},
   "source": [
    "## 4. Creating AWS Clients\n",
    "\n",
    "Initialize boto3 clients for both control plane and data plane operations."
   ]
  },
  {
   "cell_type": "code",
   "execution_count": null,
   "metadata": {
    "ExecuteTime": {
     "end_time": "2025-07-13T12:56:43.741864Z",
     "start_time": "2025-07-13T12:56:43.720200Z"
    }
   },
   "outputs": [],
   "source": [
    "# Create boto3 clients\n",
    "cp_client = boto3.client(\"bedrock-agentcore-control\", \n",
    "                        region_name=region,\n",
    "                        endpoint_url=control_plane_endpoint)\n",
    "\n",
    "dp_client = boto3.client(\"bedrock-agentcore\", \n",
    "                        region_name=region,\n",
    "                        endpoint_url=data_plane_endpoint)"
   ]
  },
  {
   "cell_type": "markdown",
   "metadata": {},
   "source": [
    "## 5. Creating a Code Interpreter\n",
    "\n",
    "Create a code interpreter instance with specific configuration parameters.\n",
    "\n",
    "When configuring a code interpreter, you can choose network settings (Sandbox, Public, or VPC), dependencies configuration, security settings, and permissions through an IAM runtime role that defines what AWS resources the code interpreter can access."
   ]
  },
  {
   "cell_type": "code",
   "execution_count": 6,
   "metadata": {
    "ExecuteTime": {
     "end_time": "2025-07-13T12:56:51.810308Z",
     "start_time": "2025-07-13T12:56:50.250747Z"
    }
   },
   "outputs": [
    {
     "ename": "AccessDeniedException",
     "evalue": "An error occurred (AccessDeniedException) when calling the CreateCodeInterpreter operation: User: arn:aws:sts::558228106740:assumed-role/admin/botocore-session-1752613343 is not authorized to perform: bedrock-agentcore:CreateCodeInterpreter",
     "output_type": "error",
     "traceback": [
      "\u001b[31m---------------------------------------------------------------------------\u001b[39m",
      "\u001b[31mAccessDeniedException\u001b[39m                     Traceback (most recent call last)",
      "\u001b[36mCell\u001b[39m\u001b[36m \u001b[39m\u001b[32mIn[6]\u001b[39m\u001b[32m, line 3\u001b[39m\n\u001b[32m      1\u001b[39m \u001b[38;5;66;03m# Create code interpreter\u001b[39;00m\n\u001b[32m      2\u001b[39m unique_name = \u001b[33mf\u001b[39m\u001b[33m\"\u001b[39m\u001b[33ms3InteractionEnv_\u001b[39m\u001b[38;5;132;01m{\u001b[39;00m\u001b[38;5;28mint\u001b[39m(time.time())\u001b[38;5;132;01m}\u001b[39;00m\u001b[33m\"\u001b[39m\n\u001b[32m----> \u001b[39m\u001b[32m3\u001b[39m interpreter_response = \u001b[43mcp_client\u001b[49m\u001b[43m.\u001b[49m\u001b[43mcreate_code_interpreter\u001b[49m\u001b[43m(\u001b[49m\n\u001b[32m      4\u001b[39m \u001b[43m    \u001b[49m\u001b[43mname\u001b[49m\u001b[43m=\u001b[49m\u001b[43munique_name\u001b[49m\u001b[43m,\u001b[49m\n\u001b[32m      5\u001b[39m \u001b[43m    \u001b[49m\u001b[43mdescription\u001b[49m\u001b[43m=\u001b[49m\u001b[33;43m\"\u001b[39;49m\u001b[33;43mEnvironment for S3 file operations\u001b[39;49m\u001b[33;43m\"\u001b[39;49m\u001b[43m,\u001b[49m\n\u001b[32m      6\u001b[39m \u001b[43m    \u001b[49m\u001b[43mexecutionRoleArn\u001b[49m\u001b[43m=\u001b[49m\u001b[43mexecution_role_arn\u001b[49m\u001b[43m,\u001b[49m\n\u001b[32m      7\u001b[39m \u001b[43m    \u001b[49m\u001b[43mnetworkConfiguration\u001b[49m\u001b[43m=\u001b[49m\u001b[43m{\u001b[49m\n\u001b[32m      8\u001b[39m \u001b[43m        \u001b[49m\u001b[33;43m'\u001b[39;49m\u001b[33;43mnetworkMode\u001b[39;49m\u001b[33;43m'\u001b[39;49m\u001b[43m:\u001b[49m\u001b[43m \u001b[49m\u001b[33;43m'\u001b[39;49m\u001b[33;43mPUBLIC\u001b[39;49m\u001b[33;43m'\u001b[39;49m\n\u001b[32m      9\u001b[39m \u001b[43m    \u001b[49m\u001b[43m}\u001b[49m\n\u001b[32m     10\u001b[39m \u001b[43m)\u001b[49m\n\u001b[32m     11\u001b[39m interpreter_id = interpreter_response[\u001b[33m\"\u001b[39m\u001b[33mcodeInterpreterId\u001b[39m\u001b[33m\"\u001b[39m]\n\u001b[32m     12\u001b[39m \u001b[38;5;28mprint\u001b[39m(\u001b[33mf\u001b[39m\u001b[33m\"\u001b[39m\u001b[33mCreated interpreter: \u001b[39m\u001b[38;5;132;01m{\u001b[39;00minterpreter_id\u001b[38;5;132;01m}\u001b[39;00m\u001b[33m\"\u001b[39m)\n",
      "\u001b[36mFile \u001b[39m\u001b[32m~/.local/share/mise/installs/python/3.12.11/lib/python3.12/site-packages/botocore/client.py:601\u001b[39m, in \u001b[36mClientCreator._create_api_method.<locals>._api_call\u001b[39m\u001b[34m(self, *args, **kwargs)\u001b[39m\n\u001b[32m    597\u001b[39m     \u001b[38;5;28;01mraise\u001b[39;00m \u001b[38;5;167;01mTypeError\u001b[39;00m(\n\u001b[32m    598\u001b[39m         \u001b[33mf\u001b[39m\u001b[33m\"\u001b[39m\u001b[38;5;132;01m{\u001b[39;00mpy_operation_name\u001b[38;5;132;01m}\u001b[39;00m\u001b[33m() only accepts keyword arguments.\u001b[39m\u001b[33m\"\u001b[39m\n\u001b[32m    599\u001b[39m     )\n\u001b[32m    600\u001b[39m \u001b[38;5;66;03m# The \"self\" in this scope is referring to the BaseClient.\u001b[39;00m\n\u001b[32m--> \u001b[39m\u001b[32m601\u001b[39m \u001b[38;5;28;01mreturn\u001b[39;00m \u001b[38;5;28;43mself\u001b[39;49m\u001b[43m.\u001b[49m\u001b[43m_make_api_call\u001b[49m\u001b[43m(\u001b[49m\u001b[43moperation_name\u001b[49m\u001b[43m,\u001b[49m\u001b[43m \u001b[49m\u001b[43mkwargs\u001b[49m\u001b[43m)\u001b[49m\n",
      "\u001b[36mFile \u001b[39m\u001b[32m~/.local/share/mise/installs/python/3.12.11/lib/python3.12/site-packages/botocore/context.py:123\u001b[39m, in \u001b[36mwith_current_context.<locals>.decorator.<locals>.wrapper\u001b[39m\u001b[34m(*args, **kwargs)\u001b[39m\n\u001b[32m    121\u001b[39m \u001b[38;5;28;01mif\u001b[39;00m hook:\n\u001b[32m    122\u001b[39m     hook()\n\u001b[32m--> \u001b[39m\u001b[32m123\u001b[39m \u001b[38;5;28;01mreturn\u001b[39;00m \u001b[43mfunc\u001b[49m\u001b[43m(\u001b[49m\u001b[43m*\u001b[49m\u001b[43margs\u001b[49m\u001b[43m,\u001b[49m\u001b[43m \u001b[49m\u001b[43m*\u001b[49m\u001b[43m*\u001b[49m\u001b[43mkwargs\u001b[49m\u001b[43m)\u001b[49m\n",
      "\u001b[36mFile \u001b[39m\u001b[32m~/.local/share/mise/installs/python/3.12.11/lib/python3.12/site-packages/botocore/client.py:1074\u001b[39m, in \u001b[36mBaseClient._make_api_call\u001b[39m\u001b[34m(self, operation_name, api_params)\u001b[39m\n\u001b[32m   1070\u001b[39m     error_code = error_info.get(\u001b[33m\"\u001b[39m\u001b[33mQueryErrorCode\u001b[39m\u001b[33m\"\u001b[39m) \u001b[38;5;129;01mor\u001b[39;00m error_info.get(\n\u001b[32m   1071\u001b[39m         \u001b[33m\"\u001b[39m\u001b[33mCode\u001b[39m\u001b[33m\"\u001b[39m\n\u001b[32m   1072\u001b[39m     )\n\u001b[32m   1073\u001b[39m     error_class = \u001b[38;5;28mself\u001b[39m.exceptions.from_code(error_code)\n\u001b[32m-> \u001b[39m\u001b[32m1074\u001b[39m     \u001b[38;5;28;01mraise\u001b[39;00m error_class(parsed_response, operation_name)\n\u001b[32m   1075\u001b[39m \u001b[38;5;28;01melse\u001b[39;00m:\n\u001b[32m   1076\u001b[39m     \u001b[38;5;28;01mreturn\u001b[39;00m parsed_response\n",
      "\u001b[31mAccessDeniedException\u001b[39m: An error occurred (AccessDeniedException) when calling the CreateCodeInterpreter operation: User: arn:aws:sts::558228106740:assumed-role/admin/botocore-session-1752613343 is not authorized to perform: bedrock-agentcore:CreateCodeInterpreter"
     ]
    }
   ],
   "source": [
    "# Create code interpreter\n",
    "unique_name = f\"s3InteractionEnv_{int(time.time())}\"\n",
    "interpreter_response = cp_client.create_code_interpreter(\n",
    "    name=unique_name,\n",
    "    description=\"Environment for S3 file operations\",\n",
    "    executionRoleArn=execution_role_arn,\n",
    "    networkConfiguration={\n",
    "        'networkMode': 'PUBLIC'\n",
    "    }\n",
    ")\n",
    "interpreter_id = interpreter_response[\"codeInterpreterId\"]\n",
    "print(f\"Created interpreter: {interpreter_id}\")"
   ]
  },
  {
   "cell_type": "markdown",
   "metadata": {},
   "source": [
    "## 6. Starting a Session\n",
    "\n",
    "Create a session within the code interpreter to execute code."
   ]
  },
  {
   "cell_type": "code",
   "execution_count": null,
   "metadata": {
    "ExecuteTime": {
     "end_time": "2025-07-13T12:57:00.097783Z",
     "start_time": "2025-07-13T12:56:57.832645Z"
    }
   },
   "outputs": [
    {
     "name": "stdout",
     "output_type": "stream",
     "text": [
      "Created session: 01K01XRBQGA4GAVZX3AGZ0QM15\n"
     ]
    }
   ],
   "source": [
    "# Start session\n",
    "session_response = dp_client.start_code_interpreter_session(\n",
    "    codeInterpreterIdentifier=interpreter_id,\n",
    "    name=\"s3InteractionSession\",\n",
    "    sessionTimeoutSeconds=900\n",
    ")\n",
    "session_id = session_response[\"sessionId\"]\n",
    "print(f\"Created session: {session_id}\")"
   ]
  },
  {
   "cell_type": "markdown",
   "metadata": {},
   "source": [
    "## 7. Helper Function for Tool Execution\n",
    "\n",
    "Define a utility function to simplify code interpreter tool invocation"
   ]
  },
  {
   "cell_type": "code",
   "execution_count": null,
   "metadata": {
    "ExecuteTime": {
     "end_time": "2025-07-13T12:57:02.281362Z",
     "start_time": "2025-07-13T12:57:02.277560Z"
    }
   },
   "outputs": [],
   "source": [
    "def call_tool(tool_name: str, arguments: Dict[str, Any]) -> Dict[str, Any]:\n",
    "    response = dp_client.invoke_code_interpreter(\n",
    "        codeInterpreterIdentifier=interpreter_id,\n",
    "        sessionId=session_id,\n",
    "        name=tool_name,\n",
    "        arguments=arguments\n",
    "    )\n",
    "    for event in response[\"stream\"]:\n",
    "        return json.dumps(event[\"result\"], indent=2)"
   ]
  },
  {
   "cell_type": "markdown",
   "metadata": {},
   "source": [
    "## 8. Test Code Execution\n",
    "\n",
    "### 8.1 Test the code interpreter with a simple Hello World example."
   ]
  },
  {
   "cell_type": "code",
   "execution_count": null,
   "metadata": {
    "ExecuteTime": {
     "end_time": "2025-07-13T12:57:05.784367Z",
     "start_time": "2025-07-13T12:57:05.429150Z"
    }
   },
   "outputs": [
    {
     "name": "stdout",
     "output_type": "stream",
     "text": [
      "execute shell command \n",
      "\n",
      "command result: {\n",
      "  \"content\": [\n",
      "    {\n",
      "      \"type\": \"text\",\n",
      "      \"text\": \"Hello World\\r\\n\"\n",
      "    }\n",
      "  ],\n",
      "  \"structuredContent\": {\n",
      "    \"stdout\": \"Hello World\\r\\n\",\n",
      "    \"stderr\": \"\",\n",
      "    \"exitCode\": 0,\n",
      "    \"executionTime\": 0.0050280094146728516\n",
      "  },\n",
      "  \"isError\": false\n",
      "}\n",
      "Hello World\r\n",
      "\n"
     ]
    }
   ],
   "source": [
    "# Test code execution\n",
    "# S3 Operations\n",
    "print(\"executing shell command \\n\")\n",
    "command_response = call_tool(\"executeCommand\",\n",
    "                              {\"command\": \"echo 'Hello World'\"})\n",
    "print(f\"command result: {command_response}\")\n",
    "\n",
    "# Parse and display results\n",
    "command_results = json.loads(command_response)\n",
    "print(command_results['structuredContent']['stdout'])"
   ]
  },
  {
   "cell_type": "markdown",
   "metadata": {},
   "source": [
    "### 8.2 Next, lets install boto3 using PIP in to the sandbox"
   ]
  },
  {
   "cell_type": "code",
   "execution_count": null,
   "metadata": {
    "ExecuteTime": {
     "end_time": "2025-07-13T12:58:00.949276Z",
     "start_time": "2025-07-13T12:57:59.563316Z"
    }
   },
   "outputs": [
    {
     "name": "stdout",
     "output_type": "stream",
     "text": [
      "executing shell command \n",
      "\n",
      "Requirement already satisfied: boto3 in /opt/amazon/genesis1p-tools/venv/lib/python3.10/site-packages (1.39.4)\r\n",
      "Requirement already satisfied: botocore<1.40.0,>=1.39.4 in /opt/amazon/genesis1p-tools/venv/lib/python3.10/site-packages (from boto3) (1.39.4)\r\n",
      "Requirement already satisfied: jmespath<2.0.0,>=0.7.1 in /opt/amazon/genesis1p-tools/venv/lib/python3.10/site-packages (from boto3) (1.0.1)\r\n",
      "Requirement already satisfied: s3transfer<0.14.0,>=0.13.0 in /opt/amazon/genesis1p-tools/venv/lib/python3.10/site-packages (from boto3) (0.13.0)\r\n",
      "Requirement already satisfied: python-dateutil<3.0.0,>=2.1 in /opt/amazon/genesis1p-tools/venv/lib/python3.10/site-packages (from botocore<1.40.0,>=1.39.4->boto3) (2.9.0.post0)\r\n",
      "Requirement already satisfied: urllib3!=2.2.0,<3,>=1.25.4 in /opt/amazon/genesis1p-tools/python3.10/lib/python3.10/site-packages (from botocore<1.40.0,>=1.39.4->boto3) (1.26.19)\r\n",
      "Requirement already satisfied: six>=1.5 in /opt/amazon/genesis1p-tools/venv/lib/python3.10/site-packages (from python-dateutil<3.0.0,>=2.1->botocore<1.40.0,>=1.39.4->boto3) (1.16.0)\r\n",
      "\u001b[33mWARNING: Error parsing dependencies of brazilpython-pytest-guard: Invalid version: '2.x'\u001b[0m\u001b[33m\r\n",
      "\u001b[0m\u001b[33mWARNING: Error parsing dependencies of brazilpython-pytest: Invalid version: '3.x'\u001b[0m\u001b[33m\r\n",
      "\u001b[0m\n"
     ]
    }
   ],
   "source": [
    "# Test code execution\n",
    "# S3 Operations\n",
    "print(\"executing shell command \\n\")\n",
    "command_response = call_tool(\"executeCommand\",\n",
    "                              {\"command\": \"pip install boto3\"})\n",
    "\n",
    "# Parse and display results\n",
    "command_results = json.loads(command_response)\n",
    "print(command_results['structuredContent']['stdout'])"
   ]
  },
  {
   "cell_type": "markdown",
   "metadata": {},
   "source": [
    "## 9. File Operations and S3 Interaction by runninng commands\n",
    "\n",
    "#### 9.1 Write local file to sandbox"
   ]
  },
  {
   "cell_type": "code",
   "execution_count": null,
   "metadata": {
    "ExecuteTime": {
     "end_time": "2025-07-13T13:02:22.397060Z",
     "start_time": "2025-07-13T13:02:22.010485Z"
    }
   },
   "outputs": [
    {
     "name": "stdout",
     "output_type": "stream",
     "text": [
      "Writing file to sandbox\n",
      "write files result: {\n",
      "  \"content\": [\n",
      "    {\n",
      "      \"type\": \"text\",\n",
      "      \"text\": \"Successfully wrote all 1 files\"\n",
      "    }\n",
      "  ],\n",
      "  \"isError\": false\n",
      "}\n"
     ]
    }
   ],
   "source": [
    "# Write file to sandbox\n",
    "print(\"Writing file to sandbox\")\n",
    "try:\n",
    "    with open(local_file, 'r', encoding='utf-8') as local_file_content:\n",
    "        local_file_content = local_file_content.read()\n",
    "except FileNotFoundError:\n",
    "    print(f\"Error: The file '{local_file}' was not found.\")\n",
    "except Exception as e:\n",
    "    print(f\"An error occurred: {e}\")\n",
    "\n",
    "files_to_create = [{\n",
    "        \"path\": \"stats.py\",\n",
    "        \"text\": local_file_content\n",
    "}]\n",
    "write_files_response = call_tool(\"writeFiles\", {\"content\": files_to_create})\n",
    "print(f\"write files result: {write_files_response}\")"
   ]
  },
  {
   "cell_type": "markdown",
   "metadata": {},
   "source": [
    "#### 9.2 Create a S3 Bucket via code interpreter"
   ]
  },
  {
   "cell_type": "code",
   "execution_count": null,
   "metadata": {
    "ExecuteTime": {
     "end_time": "2025-07-13T13:00:44.731145Z",
     "start_time": "2025-07-13T13:00:42.661104Z"
    }
   },
   "outputs": [
    {
     "name": "stdout",
     "output_type": "stream",
     "text": [
      "\n",
      "Creating S3 bucket\n",
      "create result: {\n",
      "  \"content\": [\n",
      "    {\n",
      "      \"type\": \"text\",\n",
      "      \"text\": \"make_bucket: amzn-bucket-1752411395\\r\\n\"\n",
      "    }\n",
      "  ],\n",
      "  \"structuredContent\": {\n",
      "    \"stdout\": \"make_bucket: amzn-bucket-1752411395\\r\\n\",\n",
      "    \"stderr\": \"\",\n",
      "    \"exitCode\": 0,\n",
      "    \"executionTime\": 1.6483848094940186\n",
      "  },\n",
      "  \"isError\": false\n",
      "}\n"
     ]
    }
   ],
   "source": [
    "# S3 Operations\n",
    "print(\"\\nCreating S3 bucket\")\n",
    "create_s3_response = call_tool(\"executeCommand\",\n",
    "                              {\"command\": f\"aws s3 mb {s3_path} --region {region}\"})\n",
    "print(f\"create result: {create_s3_response}\")"
   ]
  },
  {
   "cell_type": "markdown",
   "metadata": {},
   "source": [
    "#### 9.3 Upload file from code interpreter by running command to the S3 Bucket(created above)"
   ]
  },
  {
   "cell_type": "code",
   "execution_count": null,
   "metadata": {
    "ExecuteTime": {
     "end_time": "2025-07-13T13:02:31.834784Z",
     "start_time": "2025-07-13T13:02:30.724996Z"
    }
   },
   "outputs": [
    {
     "name": "stdout",
     "output_type": "stream",
     "text": [
      "\n",
      "Uploading file to S3\n",
      "upload result: {\n",
      "  \"content\": [\n",
      "    {\n",
      "      \"type\": \"text\",\n",
      "      \"text\": \"Completed 70 Bytes/70 Bytes (256 Bytes/s) with 1 file(s) remaining\\rupload: ./stats.py to s3://amzn-bucket-1752411395/stats.py        \\r\\n\"\n",
      "    }\n",
      "  ],\n",
      "  \"structuredContent\": {\n",
      "    \"stdout\": \"Completed 70 Bytes/70 Bytes (256 Bytes/s) with 1 file(s) remaining\\rupload: ./stats.py to s3://amzn-bucket-1752411395/stats.py        \\r\\n\",\n",
      "    \"stderr\": \"\",\n",
      "    \"exitCode\": 0,\n",
      "    \"executionTime\": 0.7214195728302002\n",
      "  },\n",
      "  \"isError\": false\n",
      "}\n"
     ]
    }
   ],
   "source": [
    "print(\"\\nUploading file to S3\")\n",
    "upload_to_s3_response = call_tool(\"executeCommand\",\n",
    "                                 {\"command\": f\"aws s3 cp {files_to_create[0]['path']} {s3_path}\"})\n",
    "print(f\"upload result: {upload_to_s3_response}\")\n",
    "\n"
   ]
  },
  {
   "cell_type": "markdown",
   "metadata": {},
   "source": [
    "#### 9.4 List files from the S3 bucket by running a command in the code interpreter"
   ]
  },
  {
   "cell_type": "code",
   "execution_count": null,
   "metadata": {
    "ExecuteTime": {
     "end_time": "2025-07-13T13:02:35.644224Z",
     "start_time": "2025-07-13T13:02:34.539568Z"
    }
   },
   "outputs": [
    {
     "name": "stdout",
     "output_type": "stream",
     "text": [
      "\n",
      "Listing files in S3\n",
      "list result: {\n",
      "  \"content\": [\n",
      "    {\n",
      "      \"type\": \"text\",\n",
      "      \"text\": \"2025-07-13 13:02:32         70 stats.py\\r\\n\"\n",
      "    }\n",
      "  ],\n",
      "  \"structuredContent\": {\n",
      "    \"stdout\": \"2025-07-13 13:02:32         70 stats.py\\r\\n\",\n",
      "    \"stderr\": \"\",\n",
      "    \"exitCode\": 0,\n",
      "    \"executionTime\": 0.7200710773468018\n",
      "  },\n",
      "  \"isError\": false\n",
      "}\n"
     ]
    }
   ],
   "source": [
    "print(\"\\nListing files in S3\")\n",
    "list_s3_response = call_tool(\"executeCommand\",\n",
    "                            {\"command\": f\"aws s3 ls {s3_path}\"})\n",
    "print(f\"list result: {list_s3_response}\")"
   ]
  },
  {
   "cell_type": "markdown",
   "metadata": {},
   "source": [
    "## 10. Cleanup\n",
    "\n",
    "Clean up resources by stopping the session and deleting the interpreter."
   ]
  },
  {
   "cell_type": "code",
   "execution_count": null,
   "metadata": {
    "ExecuteTime": {
     "end_time": "2025-07-13T13:04:38.694932Z",
     "start_time": "2025-07-13T13:04:31.545319Z"
    }
   },
   "outputs": [
    {
     "name": "stdout",
     "output_type": "stream",
     "text": [
      "Cleaning up session and interpreter\n",
      "Session stopped successfully\n",
      "Interpreter deleted successfully\n"
     ]
    }
   ],
   "source": [
    "# Cleanup\n",
    "print(\"Cleaning up session and interpreter\")\n",
    "dp_client.stop_code_interpreter_session(\n",
    "    codeInterpreterIdentifier=interpreter_id,\n",
    "    sessionId=session_id\n",
    ")\n",
    "print(\"Session stopped successfully\")\n",
    "\n",
    "cp_client.delete_code_interpreter(codeInterpreterId=interpreter_id)\n",
    "print(\"Interpreter deleted successfully\")"
   ]
  },
  {
   "cell_type": "code",
   "execution_count": null,
   "metadata": {},
   "outputs": [],
   "source": []
  }
 ],
 "metadata": {
  "kernelspec": {
   "display_name": "Python 3",
   "language": "python",
   "name": "python3"
  },
  "language_info": {
   "codemirror_mode": {
    "name": "ipython",
    "version": 3
   },
   "file_extension": ".py",
   "mimetype": "text/x-python",
   "name": "python",
   "nbconvert_exporter": "python",
   "pygments_lexer": "ipython3",
   "version": "3.12.11"
  }
 },
 "nbformat": 4,
 "nbformat_minor": 4
}
